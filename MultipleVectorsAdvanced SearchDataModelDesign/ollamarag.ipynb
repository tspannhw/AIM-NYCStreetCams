{
 "cells": [
  {
   "cell_type": "code",
   "execution_count": 5,
   "id": "cd7c8530-7b85-4c1e-94af-374081ff66d0",
   "metadata": {},
   "outputs": [
    {
     "name": "stderr",
     "output_type": "stream",
     "text": [
      "/Users/timothyspann/Downloads/code/milvusvenv/lib/python3.12/site-packages/transformers/tokenization_utils_base.py:1601: FutureWarning: `clean_up_tokenization_spaces` was not set. It will be set to `True` by default. This behavior will be depracted in transformers v4.45, and will be then set to `False` by default. For more details check this issue: https://github.com/huggingface/transformers/issues/31884\n",
      "  warnings.warn(\n"
     ]
    }
   ],
   "source": [
    "import os\n",
    "from pymilvus import MilvusClient\n",
    "from langchain_community.document_loaders import PyPDFLoader\n",
    "from langchain.text_splitter import RecursiveCharacterTextSplitter\n",
    "from langchain.chains import RetrievalQA\n",
    "from langchain_community.embeddings import HuggingFaceEmbeddings\n",
    "from langchain.callbacks.manager import CallbackManager\n",
    "from langchain.callbacks.streaming_stdout import StreamingStdOutCallbackHandler\n",
    "from langchain_community.llms import Ollama\n",
    "from langchain import hub\n",
    "from langchain_huggingface import HuggingFaceEmbeddings\n",
    "from langchain_community.vectorstores import Milvus\n",
    "from langchain import hub\n",
    "from langchain.chains import RetrievalQA\n",
    "from langchain_community.llms import Ollama\n",
    "from langchain.callbacks.manager import CallbackManager\n",
    "from langchain.callbacks.streaming_stdout import StreamingStdOutCallbackHandler\n",
    "import requests\n",
    "import sys\n",
    "import io\n",
    "import json\n",
    "import shutil\n",
    "import sys\n",
    "import datetime\n",
    "import subprocess\n",
    "import sys\n",
    "import os\n",
    "import math\n",
    "import base64\n",
    "from time import gmtime, strftime\n",
    "import random, string\n",
    "import time\n",
    "import psutil\n",
    "import base64\n",
    "import uuid\n",
    "import socket\n",
    "import os\n",
    "from pymilvus import connections\n",
    "from pymilvus import utility\n",
    "from pymilvus import FieldSchema, CollectionSchema, DataType, Collection\n",
    "import torch\n",
    "from torchvision import transforms\n",
    "from PIL import Image\n",
    "import timm\n",
    "from sklearn.preprocessing import normalize\n",
    "from timm.data import resolve_data_config\n",
    "from timm.data.transforms_factory import create_transform\n",
    "from IPython.display import display\n",
    "from pymilvus import MilvusClient\n",
    "from slack_sdk import WebClient\n",
    "from slack_sdk.errors import SlackApiError\n",
    "from dotenv import load_dotenv\n",
    "load_dotenv(verbose=True)\n",
    "import json\n",
    "import requests\n",
    "from datetime import datetime, timedelta\n",
    "from langchain_milvus import Milvus\n",
    "\n",
    "DIMENSION = 384 \n",
    "MILVUS_URL = \"http://192.168.1.153:19530\" \n",
    "TOKEN = os.environ.get(\"ZILLIZ_TOKEN\")\n",
    "slack_token = os.environ.get(\"SLACK_BOT_TOKEN\")\n",
    "client = WebClient(token=slack_token)\n",
    "embeddings = HuggingFaceEmbeddings(model_name=\"all-MiniLM-L6-v2\")\n",
    "OAQ3_COLLECTION_NAME = \"openaqmeasurements\"\n",
    "TODAYS_DATE = str( datetime.today().strftime('%Y-%m-%d') ) \n",
    "YESTERDAYS_DATE = (datetime.now() - timedelta(1)).strftime('%Y-%m-%d')\n",
    "\n",
    "os.environ[\"LANGCHAIN_HUB_API_URL\"] = \"https://api.hub.langchain.com\"\n",
    "os.environ[\"LANGCHAIN_HUB_API_KEY\"] = os.environ.get(\"LANGCHAIN_HUB_API_KEY\")\n",
    "os.environ[\"LANGCHAIN_API_KEY\"] = os.environ.get(\"LANGCHAIN_HUB_API_KEY\")\n",
    "os.environ[\"LANGCHAIN_TRACING_V2\"] = \"true\"\n",
    "os.environ[\"LANGCHAIN_ENDPOINT\"] = \"https://api.hub.langchain.com\"\n",
    "os.environ[\"TOKENIZERS_PARALLELISM\"]  = \"true\"\n",
    "\n",
    "### Turn off slack warnings\n",
    "os.environ[\"SKIP_SLACK_SDK_WARNING\"] = \"false\"\n",
    "\n",
    "# test query\n",
    "# What is the Current Air Quality Reading in Hope?"
   ]
  },
  {
   "cell_type": "code",
   "execution_count": 2,
   "id": "3570c115-93f2-4d8a-91bc-73f1c545381e",
   "metadata": {},
   "outputs": [],
   "source": [
    "# -----------------------------------------------------------------------------\n",
    "# Connect to Milvus\n",
    "# https://zilliz.com/blog/a-beginners-guide-to-using-llama-3-with-ollama-milvus-langchain\n",
    "# https://github.com/stephen37/ollama_local_rag/blob/main/rag_berlin_parliament.py\n",
    "# https://python.langchain.com/v0.2/docs/integrations/vectorstores/milvus/\n",
    "# https://api.python.langchain.com/en/latest/vectorstores/langchain_milvus.vectorstores.milvus.Milvus.html\n",
    "\n",
    "vector_store = Milvus(\n",
    "    embedding_function=embeddings,\n",
    "    collection_name=OAQ3_COLLECTION_NAME,\n",
    "    primary_field = \"id\",\n",
    "    text_field=\"details\",\n",
    "    connection_args={\"uri\": MILVUS_URL},\n",
    ")"
   ]
  },
  {
   "cell_type": "code",
   "execution_count": 3,
   "id": "a4684863-ef54-437d-ac3b-47d0075c53fb",
   "metadata": {},
   "outputs": [],
   "source": [
    "def run_query() -> None:\n",
    "    llm = Ollama(\n",
    "        model=\"llama3\",\n",
    "        callback_manager=CallbackManager([StreamingStdOutCallbackHandler()]),\n",
    "        stop=[\"<|eot_id|>\"],\n",
    "    )\n",
    "\n",
    "    query = input(\"\\nQuery: \")\n",
    "    qa_chain = RetrievalQA.from_chain_type(\n",
    "        llm, retriever=vector_store.as_retriever(collection =  OAQ3_COLLECTION_NAME, expr=\"parameter == 'o3'\"))\n",
    "\n",
    "    result = qa_chain({\"query\": query})\n",
    "    \n",
    "    resultforslack = str(result[\"result\"])\n",
    "    print(resultforslack)\n",
    "\n",
    "    try:\n",
    "        response = client.chat_postMessage(mrkdwn=True, channel=\"C06NE1FU6SE\", text=\"\", \n",
    "                                            blocks=[{\"type\": \"section\",\"text\": {\"type\": \"mrkdwn\",\"text\": \"*\" + str(query) + \"*  \\n\\n\" + str(resultforslack) +\"\\n\" }}])\n",
    "\n",
    "    \n",
    "    except SlackApiError as e:\n",
    "        # You will get a SlackApiError if \"ok\" is False\n",
    "        print(\"Slack failed\")"
   ]
  },
  {
   "cell_type": "code",
   "execution_count": 6,
   "id": "6ed46ba7-5763-4aa0-b605-8cb302de1c93",
   "metadata": {},
   "outputs": [
    {
     "name": "stdin",
     "output_type": "stream",
     "text": [
      "\n",
      "Query:  What is the current air quality?\n"
     ]
    },
    {
     "name": "stdout",
     "output_type": "stream",
     "text": [
      "Based on the provided context, we can see that there are readings for both ozone (O3) and particulate matter 10 micrometers or less (PM10).\n",
      "\n",
      "For O3, the reading at Location 902 on August 15th is 0.05 ppm.\n",
      "\n",
      "For PM10, the reading at Location 255 on August 11th is 15.0 µg/m³.\n",
      "\n",
      "There are no additional air quality readings provided that would indicate a current air quality status. Therefore, I can only report what we currently know:\n",
      "\n",
      "* O3: 0.05 ppm\n",
      "* PM10: 15.0 µg/m³\n",
      "\n",
      "I don't have enough information to provide a comprehensive \"current air quality\" answer as there is no additional data provided beyond these two specific readings.Based on the provided context, we can see that there are readings for both ozone (O3) and particulate matter 10 micrometers or less (PM10).\n",
      "\n",
      "For O3, the reading at Location 902 on August 15th is 0.05 ppm.\n",
      "\n",
      "For PM10, the reading at Location 255 on August 11th is 15.0 µg/m³.\n",
      "\n",
      "There are no additional air quality readings provided that would indicate a current air quality status. Therefore, I can only report what we currently know:\n",
      "\n",
      "* O3: 0.05 ppm\n",
      "* PM10: 15.0 µg/m³\n",
      "\n",
      "I don't have enough information to provide a comprehensive \"current air quality\" answer as there is no additional data provided beyond these two specific readings.\n"
     ]
    },
    {
     "ename": "KeyboardInterrupt",
     "evalue": "Interrupted by user",
     "output_type": "error",
     "traceback": [
      "\u001b[0;31m---------------------------------------------------------------------------\u001b[0m",
      "\u001b[0;31mKeyboardInterrupt\u001b[0m                         Traceback (most recent call last)",
      "Cell \u001b[0;32mIn[6], line 2\u001b[0m\n\u001b[1;32m      1\u001b[0m \u001b[38;5;28;01mwhile\u001b[39;00m \u001b[38;5;28;01mTrue\u001b[39;00m:\n\u001b[0;32m----> 2\u001b[0m     \u001b[43mrun_query\u001b[49m\u001b[43m(\u001b[49m\u001b[43m)\u001b[49m\n",
      "Cell \u001b[0;32mIn[3], line 8\u001b[0m, in \u001b[0;36mrun_query\u001b[0;34m()\u001b[0m\n\u001b[1;32m      1\u001b[0m \u001b[38;5;28;01mdef\u001b[39;00m \u001b[38;5;21mrun_query\u001b[39m() \u001b[38;5;241m-\u001b[39m\u001b[38;5;241m>\u001b[39m \u001b[38;5;28;01mNone\u001b[39;00m:\n\u001b[1;32m      2\u001b[0m     llm \u001b[38;5;241m=\u001b[39m Ollama(\n\u001b[1;32m      3\u001b[0m         model\u001b[38;5;241m=\u001b[39m\u001b[38;5;124m\"\u001b[39m\u001b[38;5;124mllama3\u001b[39m\u001b[38;5;124m\"\u001b[39m,\n\u001b[1;32m      4\u001b[0m         callback_manager\u001b[38;5;241m=\u001b[39mCallbackManager([StreamingStdOutCallbackHandler()]),\n\u001b[1;32m      5\u001b[0m         stop\u001b[38;5;241m=\u001b[39m[\u001b[38;5;124m\"\u001b[39m\u001b[38;5;124m<|eot_id|>\u001b[39m\u001b[38;5;124m\"\u001b[39m],\n\u001b[1;32m      6\u001b[0m     )\n\u001b[0;32m----> 8\u001b[0m     query \u001b[38;5;241m=\u001b[39m \u001b[38;5;28;43minput\u001b[39;49m\u001b[43m(\u001b[49m\u001b[38;5;124;43m\"\u001b[39;49m\u001b[38;5;130;43;01m\\n\u001b[39;49;00m\u001b[38;5;124;43mQuery: \u001b[39;49m\u001b[38;5;124;43m\"\u001b[39;49m\u001b[43m)\u001b[49m\n\u001b[1;32m      9\u001b[0m     qa_chain \u001b[38;5;241m=\u001b[39m RetrievalQA\u001b[38;5;241m.\u001b[39mfrom_chain_type(\n\u001b[1;32m     10\u001b[0m         llm, retriever\u001b[38;5;241m=\u001b[39mvector_store\u001b[38;5;241m.\u001b[39mas_retriever(collection \u001b[38;5;241m=\u001b[39m  OAQ3_COLLECTION_NAME, expr\u001b[38;5;241m=\u001b[39m\u001b[38;5;124m\"\u001b[39m\u001b[38;5;124mparameter == \u001b[39m\u001b[38;5;124m'\u001b[39m\u001b[38;5;124mo3\u001b[39m\u001b[38;5;124m'\u001b[39m\u001b[38;5;124m\"\u001b[39m))\n\u001b[1;32m     12\u001b[0m     result \u001b[38;5;241m=\u001b[39m qa_chain({\u001b[38;5;124m\"\u001b[39m\u001b[38;5;124mquery\u001b[39m\u001b[38;5;124m\"\u001b[39m: query})\n",
      "File \u001b[0;32m~/Downloads/code/milvusvenv/lib/python3.12/site-packages/ipykernel/kernelbase.py:1282\u001b[0m, in \u001b[0;36mKernel.raw_input\u001b[0;34m(self, prompt)\u001b[0m\n\u001b[1;32m   1280\u001b[0m     msg \u001b[38;5;241m=\u001b[39m \u001b[38;5;124m\"\u001b[39m\u001b[38;5;124mraw_input was called, but this frontend does not support input requests.\u001b[39m\u001b[38;5;124m\"\u001b[39m\n\u001b[1;32m   1281\u001b[0m     \u001b[38;5;28;01mraise\u001b[39;00m StdinNotImplementedError(msg)\n\u001b[0;32m-> 1282\u001b[0m \u001b[38;5;28;01mreturn\u001b[39;00m \u001b[38;5;28;43mself\u001b[39;49m\u001b[38;5;241;43m.\u001b[39;49m\u001b[43m_input_request\u001b[49m\u001b[43m(\u001b[49m\n\u001b[1;32m   1283\u001b[0m \u001b[43m    \u001b[49m\u001b[38;5;28;43mstr\u001b[39;49m\u001b[43m(\u001b[49m\u001b[43mprompt\u001b[49m\u001b[43m)\u001b[49m\u001b[43m,\u001b[49m\n\u001b[1;32m   1284\u001b[0m \u001b[43m    \u001b[49m\u001b[38;5;28;43mself\u001b[39;49m\u001b[38;5;241;43m.\u001b[39;49m\u001b[43m_parent_ident\u001b[49m\u001b[43m[\u001b[49m\u001b[38;5;124;43m\"\u001b[39;49m\u001b[38;5;124;43mshell\u001b[39;49m\u001b[38;5;124;43m\"\u001b[39;49m\u001b[43m]\u001b[49m\u001b[43m,\u001b[49m\n\u001b[1;32m   1285\u001b[0m \u001b[43m    \u001b[49m\u001b[38;5;28;43mself\u001b[39;49m\u001b[38;5;241;43m.\u001b[39;49m\u001b[43mget_parent\u001b[49m\u001b[43m(\u001b[49m\u001b[38;5;124;43m\"\u001b[39;49m\u001b[38;5;124;43mshell\u001b[39;49m\u001b[38;5;124;43m\"\u001b[39;49m\u001b[43m)\u001b[49m\u001b[43m,\u001b[49m\n\u001b[1;32m   1286\u001b[0m \u001b[43m    \u001b[49m\u001b[43mpassword\u001b[49m\u001b[38;5;241;43m=\u001b[39;49m\u001b[38;5;28;43;01mFalse\u001b[39;49;00m\u001b[43m,\u001b[49m\n\u001b[1;32m   1287\u001b[0m \u001b[43m\u001b[49m\u001b[43m)\u001b[49m\n",
      "File \u001b[0;32m~/Downloads/code/milvusvenv/lib/python3.12/site-packages/ipykernel/kernelbase.py:1325\u001b[0m, in \u001b[0;36mKernel._input_request\u001b[0;34m(self, prompt, ident, parent, password)\u001b[0m\n\u001b[1;32m   1322\u001b[0m \u001b[38;5;28;01mexcept\u001b[39;00m \u001b[38;5;167;01mKeyboardInterrupt\u001b[39;00m:\n\u001b[1;32m   1323\u001b[0m     \u001b[38;5;66;03m# re-raise KeyboardInterrupt, to truncate traceback\u001b[39;00m\n\u001b[1;32m   1324\u001b[0m     msg \u001b[38;5;241m=\u001b[39m \u001b[38;5;124m\"\u001b[39m\u001b[38;5;124mInterrupted by user\u001b[39m\u001b[38;5;124m\"\u001b[39m\n\u001b[0;32m-> 1325\u001b[0m     \u001b[38;5;28;01mraise\u001b[39;00m \u001b[38;5;167;01mKeyboardInterrupt\u001b[39;00m(msg) \u001b[38;5;28;01mfrom\u001b[39;00m \u001b[38;5;28;01mNone\u001b[39;00m\n\u001b[1;32m   1326\u001b[0m \u001b[38;5;28;01mexcept\u001b[39;00m \u001b[38;5;167;01mException\u001b[39;00m:\n\u001b[1;32m   1327\u001b[0m     \u001b[38;5;28mself\u001b[39m\u001b[38;5;241m.\u001b[39mlog\u001b[38;5;241m.\u001b[39mwarning(\u001b[38;5;124m\"\u001b[39m\u001b[38;5;124mInvalid Message:\u001b[39m\u001b[38;5;124m\"\u001b[39m, exc_info\u001b[38;5;241m=\u001b[39m\u001b[38;5;28;01mTrue\u001b[39;00m)\n",
      "\u001b[0;31mKeyboardInterrupt\u001b[0m: Interrupted by user"
     ]
    }
   ],
   "source": [
    "    while True:\n",
    "        run_query()"
   ]
  },
  {
   "cell_type": "code",
   "execution_count": null,
   "id": "6d8d9c0b-e318-4472-99f5-420157bde4ad",
   "metadata": {},
   "outputs": [],
   "source": []
  }
 ],
 "metadata": {
  "kernelspec": {
   "display_name": "Python 3 (ipykernel)",
   "language": "python",
   "name": "python3"
  },
  "language_info": {
   "codemirror_mode": {
    "name": "ipython",
    "version": 3
   },
   "file_extension": ".py",
   "mimetype": "text/x-python",
   "name": "python",
   "nbconvert_exporter": "python",
   "pygments_lexer": "ipython3",
   "version": "3.12.5"
  }
 },
 "nbformat": 4,
 "nbformat_minor": 5
}
